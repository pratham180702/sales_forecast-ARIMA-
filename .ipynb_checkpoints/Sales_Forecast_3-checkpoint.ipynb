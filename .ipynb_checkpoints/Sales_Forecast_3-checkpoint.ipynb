{
 "cells": [
  {
   "cell_type": "code",
   "execution_count": null,
   "id": "66bd1ac2",
   "metadata": {},
   "outputs": [],
   "source": [
    "import pandas as pd\n",
    "import numpy as np\n",
    "from matplotlib import pyplot as plt"
   ]
  },
  {
   "cell_type": "code",
   "execution_count": 2,
   "id": "ff07873e",
   "metadata": {},
   "outputs": [
    {
     "name": "stderr",
     "output_type": "stream",
     "text": [
      "C:\\Users\\PRATHAM\\AppData\\Local\\Temp\\ipykernel_13868\\1892628201.py:1: DtypeWarning: Columns (2) have mixed types. Specify dtype option on import or set low_memory=False.\n",
      "  df = pd.read_csv('Property_Sales_History_Property_Sales_History.csv')\n"
     ]
    }
   ],
   "source": [
    "df = pd.read_csv('Property_Sales_History_Property_Sales_History.csv')"
   ]
  },
  {
   "cell_type": "code",
   "execution_count": 3,
   "id": "ef2a5b70",
   "metadata": {},
   "outputs": [
    {
     "data": {
      "text/html": [
       "<div>\n",
       "<style scoped>\n",
       "    .dataframe tbody tr th:only-of-type {\n",
       "        vertical-align: middle;\n",
       "    }\n",
       "\n",
       "    .dataframe tbody tr th {\n",
       "        vertical-align: top;\n",
       "    }\n",
       "\n",
       "    .dataframe thead th {\n",
       "        text-align: right;\n",
       "    }\n",
       "</style>\n",
       "<table border=\"1\" class=\"dataframe\">\n",
       "  <thead>\n",
       "    <tr style=\"text-align: right;\">\n",
       "      <th></th>\n",
       "      <th>PARCELNO</th>\n",
       "      <th>PROPCLASS</th>\n",
       "      <th>PROPADDR</th>\n",
       "      <th>SALEDATE</th>\n",
       "      <th>SALEPRICE</th>\n",
       "      <th>SALENO</th>\n",
       "      <th>GRANTEE</th>\n",
       "      <th>GRANTOR</th>\n",
       "      <th>SalesInstr</th>\n",
       "      <th>PROPNO</th>\n",
       "      <th>PROPDIR</th>\n",
       "      <th>PROPSTR</th>\n",
       "      <th>PROPZIP</th>\n",
       "      <th>SALETERMS</th>\n",
       "    </tr>\n",
       "  </thead>\n",
       "  <tbody>\n",
       "    <tr>\n",
       "      <th>0</th>\n",
       "      <td>22123947.</td>\n",
       "      <td>401</td>\n",
       "      <td>NaN</td>\n",
       "      <td>03/02/2016</td>\n",
       "      <td>$1.00</td>\n",
       "      <td>1</td>\n",
       "      <td>HALL, EDWARD</td>\n",
       "      <td>LAURA, TRINA</td>\n",
       "      <td>QC</td>\n",
       "      <td>18624</td>\n",
       "      <td>NaN</td>\n",
       "      <td>WINSTON</td>\n",
       "      <td>48219</td>\n",
       "      <td>REVIEW NEEDED</td>\n",
       "    </tr>\n",
       "    <tr>\n",
       "      <th>1</th>\n",
       "      <td>21015633.010</td>\n",
       "      <td>401</td>\n",
       "      <td>NaN</td>\n",
       "      <td>03/02/2016</td>\n",
       "      <td>$5000.00</td>\n",
       "      <td>1</td>\n",
       "      <td>ANDERSON, ANTONIO</td>\n",
       "      <td>WARE, EDISON</td>\n",
       "      <td>QC</td>\n",
       "      <td>18694</td>\n",
       "      <td>NaN</td>\n",
       "      <td>ALCOY</td>\n",
       "      <td>48205</td>\n",
       "      <td>REVIEW NEEDED</td>\n",
       "    </tr>\n",
       "    <tr>\n",
       "      <th>2</th>\n",
       "      <td>17007012.</td>\n",
       "      <td>404</td>\n",
       "      <td>NaN</td>\n",
       "      <td>03/02/2016</td>\n",
       "      <td>NaN</td>\n",
       "      <td>1</td>\n",
       "      <td>NaN</td>\n",
       "      <td>HASKA, WILLIAM</td>\n",
       "      <td>WD</td>\n",
       "      <td>2130</td>\n",
       "      <td>NaN</td>\n",
       "      <td>IROQUOIS</td>\n",
       "      <td>48214</td>\n",
       "      <td>REVIEW NEEDED</td>\n",
       "    </tr>\n",
       "    <tr>\n",
       "      <th>3</th>\n",
       "      <td>21042739.</td>\n",
       "      <td>401</td>\n",
       "      <td>NaN</td>\n",
       "      <td>03/02/2016</td>\n",
       "      <td>$1.00</td>\n",
       "      <td>1</td>\n",
       "      <td>HERBERT, WILLIE JR</td>\n",
       "      <td>HERBERT, CLARA L</td>\n",
       "      <td>PTA</td>\n",
       "      <td>3960</td>\n",
       "      <td>NaN</td>\n",
       "      <td>LILLIBRIDGE</td>\n",
       "      <td>48214</td>\n",
       "      <td>NQ</td>\n",
       "    </tr>\n",
       "    <tr>\n",
       "      <th>4</th>\n",
       "      <td>21077568-9</td>\n",
       "      <td>401</td>\n",
       "      <td>NaN</td>\n",
       "      <td>03/02/2016</td>\n",
       "      <td>$4400.00</td>\n",
       "      <td>1</td>\n",
       "      <td>MASON, CHARLES ANTHONY</td>\n",
       "      <td>MUMPHORD, TAHNIA</td>\n",
       "      <td>PTA</td>\n",
       "      <td>5036</td>\n",
       "      <td>NaN</td>\n",
       "      <td>MARSEILLES</td>\n",
       "      <td>48224</td>\n",
       "      <td>REVIEW NEEDED</td>\n",
       "    </tr>\n",
       "  </tbody>\n",
       "</table>\n",
       "</div>"
      ],
      "text/plain": [
       "       PARCELNO  PROPCLASS PROPADDR    SALEDATE SALEPRICE  SALENO  \\\n",
       "0     22123947.        401      NaN  03/02/2016     $1.00       1   \n",
       "1  21015633.010        401      NaN  03/02/2016  $5000.00       1   \n",
       "2     17007012.        404      NaN  03/02/2016       NaN       1   \n",
       "3     21042739.        401      NaN  03/02/2016     $1.00       1   \n",
       "4    21077568-9        401      NaN  03/02/2016  $4400.00       1   \n",
       "\n",
       "                  GRANTEE           GRANTOR SalesInstr  PROPNO PROPDIR  \\\n",
       "0            HALL, EDWARD      LAURA, TRINA         QC   18624     NaN   \n",
       "1       ANDERSON, ANTONIO      WARE, EDISON         QC   18694     NaN   \n",
       "2                     NaN    HASKA, WILLIAM         WD    2130     NaN   \n",
       "3      HERBERT, WILLIE JR  HERBERT, CLARA L        PTA    3960     NaN   \n",
       "4  MASON, CHARLES ANTHONY  MUMPHORD, TAHNIA        PTA    5036     NaN   \n",
       "\n",
       "       PROPSTR PROPZIP      SALETERMS  \n",
       "0      WINSTON   48219  REVIEW NEEDED  \n",
       "1        ALCOY   48205  REVIEW NEEDED  \n",
       "2     IROQUOIS   48214  REVIEW NEEDED  \n",
       "3  LILLIBRIDGE   48214             NQ  \n",
       "4   MARSEILLES   48224  REVIEW NEEDED  "
      ]
     },
     "execution_count": 3,
     "metadata": {},
     "output_type": "execute_result"
    }
   ],
   "source": [
    "df.head()"
   ]
  },
  {
   "cell_type": "code",
   "execution_count": 4,
   "id": "a72aa929",
   "metadata": {},
   "outputs": [
    {
     "name": "stderr",
     "output_type": "stream",
     "text": [
      "C:\\Users\\PRATHAM\\AppData\\Local\\Temp\\ipykernel_13868\\533734603.py:2: FutureWarning: The default value of regex will change from True to False in a future version. In addition, single character regular expressions will *not* be treated as literal strings when regex=True.\n",
      "  df['SALEPRICE'] = df['SALEPRICE'].str.replace('$', '')\n"
     ]
    }
   ],
   "source": [
    "#the SALEPRICE here is in string and has \"$\" prefix. so first replacing \"$\" with empty space\n",
    "df['SALEPRICE'] = df['SALEPRICE'].str.replace('$', '')\n",
    "\n",
    "#now typecasting the string to float\n",
    "df['SALEPRICE'] = df['SALEPRICE'].astype(float)"
   ]
  },
  {
   "cell_type": "code",
   "execution_count": 5,
   "id": "75263de0",
   "metadata": {},
   "outputs": [
    {
     "data": {
      "text/html": [
       "<div>\n",
       "<style scoped>\n",
       "    .dataframe tbody tr th:only-of-type {\n",
       "        vertical-align: middle;\n",
       "    }\n",
       "\n",
       "    .dataframe tbody tr th {\n",
       "        vertical-align: top;\n",
       "    }\n",
       "\n",
       "    .dataframe thead th {\n",
       "        text-align: right;\n",
       "    }\n",
       "</style>\n",
       "<table border=\"1\" class=\"dataframe\">\n",
       "  <thead>\n",
       "    <tr style=\"text-align: right;\">\n",
       "      <th></th>\n",
       "      <th>SALEDATE</th>\n",
       "      <th>SALEPRICE</th>\n",
       "    </tr>\n",
       "  </thead>\n",
       "  <tbody>\n",
       "    <tr>\n",
       "      <th>0</th>\n",
       "      <td>03/02/2016</td>\n",
       "      <td>1.000000</td>\n",
       "    </tr>\n",
       "    <tr>\n",
       "      <th>1</th>\n",
       "      <td>03/02/2016</td>\n",
       "      <td>5000.000000</td>\n",
       "    </tr>\n",
       "    <tr>\n",
       "      <th>2</th>\n",
       "      <td>03/02/2016</td>\n",
       "      <td>7495.056193</td>\n",
       "    </tr>\n",
       "    <tr>\n",
       "      <th>3</th>\n",
       "      <td>03/02/2016</td>\n",
       "      <td>1.000000</td>\n",
       "    </tr>\n",
       "    <tr>\n",
       "      <th>4</th>\n",
       "      <td>03/02/2016</td>\n",
       "      <td>4400.000000</td>\n",
       "    </tr>\n",
       "    <tr>\n",
       "      <th>...</th>\n",
       "      <td>...</td>\n",
       "      <td>...</td>\n",
       "    </tr>\n",
       "    <tr>\n",
       "      <th>601993</th>\n",
       "      <td>05/19/2004</td>\n",
       "      <td>73267.000000</td>\n",
       "    </tr>\n",
       "    <tr>\n",
       "      <th>601994</th>\n",
       "      <td>02/01/1995</td>\n",
       "      <td>192500.000000</td>\n",
       "    </tr>\n",
       "    <tr>\n",
       "      <th>601995</th>\n",
       "      <td>07/01/1994</td>\n",
       "      <td>29500.000000</td>\n",
       "    </tr>\n",
       "    <tr>\n",
       "      <th>601996</th>\n",
       "      <td>07/26/2002</td>\n",
       "      <td>284000.000000</td>\n",
       "    </tr>\n",
       "    <tr>\n",
       "      <th>601997</th>\n",
       "      <td>05/19/2006</td>\n",
       "      <td>58000.000000</td>\n",
       "    </tr>\n",
       "  </tbody>\n",
       "</table>\n",
       "<p>601998 rows × 2 columns</p>\n",
       "</div>"
      ],
      "text/plain": [
       "          SALEDATE      SALEPRICE\n",
       "0       03/02/2016       1.000000\n",
       "1       03/02/2016    5000.000000\n",
       "2       03/02/2016    7495.056193\n",
       "3       03/02/2016       1.000000\n",
       "4       03/02/2016    4400.000000\n",
       "...            ...            ...\n",
       "601993  05/19/2004   73267.000000\n",
       "601994  02/01/1995  192500.000000\n",
       "601995  07/01/1994   29500.000000\n",
       "601996  07/26/2002  284000.000000\n",
       "601997  05/19/2006   58000.000000\n",
       "\n",
       "[601998 rows x 2 columns]"
      ]
     },
     "execution_count": 5,
     "metadata": {},
     "output_type": "execute_result"
    }
   ],
   "source": [
    "#filling the null values using the interpolate method(try using other methods like linear, quadratic instead of cubic)\n",
    "df['SALEPRICE'].interpolate(method='cubic', inplace=True)\n",
    "df2 = df[['SALEDATE','SALEPRICE']]\n",
    "df2"
   ]
  },
  {
   "cell_type": "code",
   "execution_count": 6,
   "id": "8f4fa3b4",
   "metadata": {},
   "outputs": [
    {
     "data": {
      "text/html": [
       "<div>\n",
       "<style scoped>\n",
       "    .dataframe tbody tr th:only-of-type {\n",
       "        vertical-align: middle;\n",
       "    }\n",
       "\n",
       "    .dataframe tbody tr th {\n",
       "        vertical-align: top;\n",
       "    }\n",
       "\n",
       "    .dataframe thead th {\n",
       "        text-align: right;\n",
       "    }\n",
       "</style>\n",
       "<table border=\"1\" class=\"dataframe\">\n",
       "  <thead>\n",
       "    <tr style=\"text-align: right;\">\n",
       "      <th></th>\n",
       "      <th>SALEDATE</th>\n",
       "      <th>SALEPRICE</th>\n",
       "    </tr>\n",
       "  </thead>\n",
       "  <tbody>\n",
       "    <tr>\n",
       "      <th>0</th>\n",
       "      <td>01/01/1990</td>\n",
       "      <td>2.773971e+07</td>\n",
       "    </tr>\n",
       "    <tr>\n",
       "      <th>1</th>\n",
       "      <td>01/01/1991</td>\n",
       "      <td>2.542065e+07</td>\n",
       "    </tr>\n",
       "    <tr>\n",
       "      <th>2</th>\n",
       "      <td>01/01/1992</td>\n",
       "      <td>2.256761e+07</td>\n",
       "    </tr>\n",
       "    <tr>\n",
       "      <th>3</th>\n",
       "      <td>01/01/1993</td>\n",
       "      <td>2.357300e+07</td>\n",
       "    </tr>\n",
       "    <tr>\n",
       "      <th>4</th>\n",
       "      <td>01/01/1994</td>\n",
       "      <td>2.783119e+07</td>\n",
       "    </tr>\n",
       "    <tr>\n",
       "      <th>...</th>\n",
       "      <td>...</td>\n",
       "      <td>...</td>\n",
       "    </tr>\n",
       "    <tr>\n",
       "      <th>7753</th>\n",
       "      <td>12/31/2011</td>\n",
       "      <td>2.568447e+06</td>\n",
       "    </tr>\n",
       "    <tr>\n",
       "      <th>7754</th>\n",
       "      <td>12/31/2012</td>\n",
       "      <td>3.739879e+07</td>\n",
       "    </tr>\n",
       "    <tr>\n",
       "      <th>7755</th>\n",
       "      <td>12/31/2013</td>\n",
       "      <td>2.401792e+07</td>\n",
       "    </tr>\n",
       "    <tr>\n",
       "      <th>7756</th>\n",
       "      <td>12/31/2014</td>\n",
       "      <td>1.406747e+08</td>\n",
       "    </tr>\n",
       "    <tr>\n",
       "      <th>7757</th>\n",
       "      <td>12/31/2015</td>\n",
       "      <td>9.544724e+05</td>\n",
       "    </tr>\n",
       "  </tbody>\n",
       "</table>\n",
       "<p>7758 rows × 2 columns</p>\n",
       "</div>"
      ],
      "text/plain": [
       "        SALEDATE     SALEPRICE\n",
       "0     01/01/1990  2.773971e+07\n",
       "1     01/01/1991  2.542065e+07\n",
       "2     01/01/1992  2.256761e+07\n",
       "3     01/01/1993  2.357300e+07\n",
       "4     01/01/1994  2.783119e+07\n",
       "...          ...           ...\n",
       "7753  12/31/2011  2.568447e+06\n",
       "7754  12/31/2012  3.739879e+07\n",
       "7755  12/31/2013  2.401792e+07\n",
       "7756  12/31/2014  1.406747e+08\n",
       "7757  12/31/2015  9.544724e+05\n",
       "\n",
       "[7758 rows x 2 columns]"
      ]
     },
     "execution_count": 6,
     "metadata": {},
     "output_type": "execute_result"
    }
   ],
   "source": [
    "#grouping the data based upon dates and adding all the SALEPRICE of the single date\n",
    "grouped_df = df.groupby(['SALEDATE'])['SALEPRICE'].sum()\n",
    "\n",
    "#resetting the index\n",
    "grouped_df = grouped_df.reset_index()\n",
    "grouped_df"
   ]
  },
  {
   "cell_type": "code",
   "execution_count": 7,
   "id": "6d6a958e",
   "metadata": {},
   "outputs": [
    {
     "data": {
      "text/plain": [
       "<AxesSubplot: xlabel='SALEDATE'>"
      ]
     },
     "execution_count": 7,
     "metadata": {},
     "output_type": "execute_result"
    },
    {
     "data": {
      "image/png": "[encoded data removed]",
      "text/plain": [
       "<Figure size 432x288 with 1 Axes>"
      ]
     },
     "metadata": {
      "needs_background": "light"
     },
     "output_type": "display_data"
    }
   ],
   "source": [
    "grouped_df.plot('SALEDATE','SALEPRICE')"
   ]
  },
  {
   "cell_type": "code",
   "execution_count": 8,
   "id": "6d3368b5",
   "metadata": {},
   "outputs": [
    {
     "name": "stdout",
     "output_type": "stream",
     "text": [
      "22837984732.915825\n"
     ]
    },
    {
     "data": {
      "image/png": "[encoded data removed]",
      "text/plain": [
       "<Figure size 432x288 with 1 Axes>"
      ]
     },
     "metadata": {
      "needs_background": "light"
     },
     "output_type": "display_data"
    }
   ],
   "source": [
    "import seaborn as sns\n",
    "sns.boxplot(x=grouped_df[\"SALEPRICE\"])\n",
    "print(grouped_df[\"SALEPRICE\"].max())"
   ]
  },
  {
   "cell_type": "code",
   "execution_count": 9,
   "id": "04b7a485",
   "metadata": {},
   "outputs": [],
   "source": [
    "grouped_df = grouped_df[grouped_df['SALEPRICE'] < 0.25e10]"
   ]
  },
  {
   "cell_type": "code",
   "execution_count": 10,
   "id": "46b918e1",
   "metadata": {},
   "outputs": [
    {
     "data": {
      "text/plain": [
       "<AxesSubplot: xlabel='SALEPRICE'>"
      ]
     },
     "execution_count": 10,
     "metadata": {},
     "output_type": "execute_result"
    },
    {
     "data": {
      "image/png": "[encoded data removed]",
      "text/plain": [
       "<Figure size 432x288 with 1 Axes>"
      ]
     },
     "metadata": {
      "needs_background": "light"
     },
     "output_type": "display_data"
    }
   ],
   "source": [
    "grouped_df\n",
    "sns.boxplot(x=grouped_df[\"SALEPRICE\"])"
   ]
  },
  {
   "cell_type": "code",
   "execution_count": 11,
   "id": "6c13fe29",
   "metadata": {},
   "outputs": [],
   "source": [
    "grouped_df = grouped_df[grouped_df.SALEPRICE >= 0]"
   ]
  },
  {
   "cell_type": "code",
   "execution_count": 12,
   "id": "2affdaf5",
   "metadata": {},
   "outputs": [
    {
     "data": {
      "text/plain": [
       "<AxesSubplot: xlabel='SALEPRICE'>"
      ]
     },
     "execution_count": 12,
     "metadata": {},
     "output_type": "execute_result"
    },
    {
     "data": {
      "image/png": "[encoded data removed]",
      "text/plain": [
       "<Figure size 432x288 with 1 Axes>"
      ]
     },
     "metadata": {
      "needs_background": "light"
     },
     "output_type": "display_data"
    }
   ],
   "source": [
    "sns.boxplot(x=grouped_df[\"SALEPRICE\"])"
   ]
  },
  {
   "cell_type": "code",
   "execution_count": 13,
   "id": "dfe0d96e",
   "metadata": {},
   "outputs": [],
   "source": [
    "grouped_df = grouped_df[grouped_df.SALEPRICE <= 0.25e9]"
   ]
  },
  {
   "cell_type": "code",
   "execution_count": 14,
   "id": "2aab3883",
   "metadata": {},
   "outputs": [
    {
     "data": {
      "text/plain": [
       "<AxesSubplot: xlabel='SALEPRICE'>"
      ]
     },
     "execution_count": 14,
     "metadata": {},
     "output_type": "execute_result"
    },
    {
     "data": {
      "image/png": "[encoded data removed]",
      "text/plain": [
       "<Figure size 432x288 with 1 Axes>"
      ]
     },
     "metadata": {
      "needs_background": "light"
     },
     "output_type": "display_data"
    }
   ],
   "source": [
    "sns.boxplot(x=grouped_df[\"SALEPRICE\"])"
   ]
  },
  {
   "cell_type": "code",
   "execution_count": 15,
   "id": "933fcb1d",
   "metadata": {},
   "outputs": [
    {
     "data": {
      "text/plain": [
       "<AxesSubplot: xlabel='SALEDATE'>"
      ]
     },
     "execution_count": 15,
     "metadata": {},
     "output_type": "execute_result"
    },
    {
     "data": {
      "image/png": "[encoded data removed]",
      "text/plain": [
       "<Figure size 432x288 with 1 Axes>"
      ]
     },
     "metadata": {
      "needs_background": "light"
     },
     "output_type": "display_data"
    }
   ],
   "source": [
    "grouped_df.plot('SALEDATE','SALEPRICE')"
   ]
  },
  {
   "cell_type": "code",
   "execution_count": 16,
   "id": "fd561a68",
   "metadata": {},
   "outputs": [
    {
     "name": "stdout",
     "output_type": "stream",
     "text": [
      "1. ADF :  -15.80237426129376\n",
      "2. P-Value :  1.0702863467914888e-28\n",
      "3. Num Of Lags :  23\n",
      "4. Num Of Observations Used For ADF Regression: 7332\n",
      "5. Critical Values :\n",
      "\t 1% :  -3.431242197339587\n",
      "\t 5% :  -2.861934282353171\n",
      "\t 10% :  -2.5669798722197372\n"
     ]
    }
   ],
   "source": [
    "from statsmodels.tsa.stattools import adfuller\n",
    "def ad_test(dataset):\n",
    "     dftest = adfuller(dataset, autolag = 'AIC')\n",
    "     print(\"1. ADF : \",dftest[0])\n",
    "     print(\"2. P-Value : \", dftest[1])\n",
    "     print(\"3. Num Of Lags : \", dftest[2])\n",
    "     print(\"4. Num Of Observations Used For ADF Regression:\",      dftest[3])\n",
    "     print(\"5. Critical Values :\")\n",
    "     for key, val in dftest[4].items():\n",
    "         print(\"\\t\",key, \": \", val)\n",
    "ad_test(grouped_df['SALEPRICE'])"
   ]
  },
  {
   "cell_type": "code",
   "execution_count": 17,
   "id": "6457370a",
   "metadata": {},
   "outputs": [
    {
     "name": "stdout",
     "output_type": "stream",
     "text": [
      "Performing stepwise search to minimize aic\n",
      " ARIMA(2,0,2)(0,0,0)[0] intercept   : AIC=260573.556, Time=2.02 sec\n",
      " ARIMA(0,0,0)(0,0,0)[0] intercept   : AIC=262926.646, Time=0.13 sec\n",
      " ARIMA(1,0,0)(0,0,0)[0] intercept   : AIC=260893.352, Time=0.29 sec\n",
      " ARIMA(0,0,1)(0,0,0)[0] intercept   : AIC=261628.805, Time=0.38 sec\n",
      " ARIMA(0,0,0)(0,0,0)[0]             : AIC=263682.933, Time=0.07 sec\n",
      " ARIMA(1,0,2)(0,0,0)[0] intercept   : AIC=260588.776, Time=1.22 sec\n",
      " ARIMA(2,0,1)(0,0,0)[0] intercept   : AIC=260578.414, Time=0.99 sec\n",
      " ARIMA(3,0,2)(0,0,0)[0] intercept   : AIC=260574.685, Time=5.38 sec\n",
      " ARIMA(2,0,3)(0,0,0)[0] intercept   : AIC=260575.316, Time=3.38 sec\n",
      " ARIMA(1,0,1)(0,0,0)[0] intercept   : AIC=260613.058, Time=0.69 sec\n",
      " ARIMA(1,0,3)(0,0,0)[0] intercept   : AIC=260588.233, Time=1.72 sec\n",
      " ARIMA(3,0,1)(0,0,0)[0] intercept   : AIC=260575.283, Time=1.97 sec\n",
      " ARIMA(3,0,3)(0,0,0)[0] intercept   : AIC=260562.146, Time=5.45 sec\n",
      " ARIMA(4,0,3)(0,0,0)[0] intercept   : AIC=260560.777, Time=7.33 sec\n",
      " ARIMA(4,0,2)(0,0,0)[0] intercept   : AIC=260570.543, Time=3.29 sec\n",
      " ARIMA(5,0,3)(0,0,0)[0] intercept   : AIC=260562.460, Time=3.34 sec\n",
      " ARIMA(4,0,4)(0,0,0)[0] intercept   : AIC=260562.353, Time=3.01 sec\n",
      " ARIMA(3,0,4)(0,0,0)[0] intercept   : AIC=260560.450, Time=5.13 sec\n",
      " ARIMA(2,0,4)(0,0,0)[0] intercept   : AIC=260563.476, Time=5.23 sec\n",
      " ARIMA(3,0,5)(0,0,0)[0] intercept   : AIC=260562.233, Time=8.42 sec\n",
      " ARIMA(2,0,5)(0,0,0)[0] intercept   : AIC=260565.694, Time=8.45 sec\n",
      " ARIMA(4,0,5)(0,0,0)[0] intercept   : AIC=260564.225, Time=8.58 sec\n",
      " ARIMA(3,0,4)(0,0,0)[0]             : AIC=inf, Time=9.38 sec\n",
      "\n",
      "Best model:  ARIMA(3,0,4)(0,0,0)[0] intercept\n",
      "Total fit time: 85.861 seconds\n"
     ]
    }
   ],
   "source": [
    "from pmdarima import auto_arima\n",
    "stepwise_fit = auto_arima(grouped_df['SALEPRICE'], trace=True,\n",
    "suppress_warnings=True)"
   ]
  },
  {
   "cell_type": "markdown",
   "id": "67b0e2b4",
   "metadata": {},
   "source": [
    "# Fitting arima model"
   ]
  },
  {
   "cell_type": "markdown",
   "id": "7a557aee",
   "metadata": {},
   "source": [
    "### Dividing the data between training and testing"
   ]
  },
  {
   "cell_type": "code",
   "execution_count": 18,
   "id": "bc6540b4",
   "metadata": {},
   "outputs": [],
   "source": [
    "from statsmodels.tsa.arima.model import ARIMA"
   ]
  },
  {
   "cell_type": "code",
   "execution_count": 19,
   "id": "c8873d17",
   "metadata": {},
   "outputs": [
    {
     "name": "stdout",
     "output_type": "stream",
     "text": [
      "(7356, 2)\n",
      "(601698, 14) (300, 14)\n"
     ]
    }
   ],
   "source": [
    "print(grouped_df.shape)\n",
    "train=df.iloc[:-300]\n",
    "test=df.iloc[-300:]\n",
    "print(train.shape,test.shape)"
   ]
  },
  {
   "cell_type": "markdown",
   "id": "b3d411e8",
   "metadata": {},
   "source": [
    "#### Fitting the model"
   ]
  },
  {
   "cell_type": "code",
   "execution_count": null,
   "id": "94074770",
   "metadata": {},
   "outputs": [
    {
     "name": "stderr",
     "output_type": "stream",
     "text": [
      "C:\\Users\\PRATHAM\\AppData\\Local\\Programs\\Python\\Python310\\lib\\site-packages\\statsmodels\\tsa\\statespace\\sarimax.py:966: UserWarning: Non-stationary starting autoregressive parameters found. Using zeros as starting parameters.\n",
      "  warn('Non-stationary starting autoregressive parameters'\n",
      "C:\\Users\\PRATHAM\\AppData\\Local\\Programs\\Python\\Python310\\lib\\site-packages\\statsmodels\\tsa\\statespace\\sarimax.py:978: UserWarning: Non-invertible starting MA parameters found. Using zeros as starting parameters.\n",
      "  warn('Non-invertible starting MA parameters found.'\n"
     ]
    }
   ],
   "source": [
    "# model=ARIMA(train['SALEPRICE'],order=(3,0,4))\n",
    "# model=model.fit()\n",
    "# model.summary()"
   ]
  }
 ],
 "metadata": {
  "kernelspec": {
   "display_name": "Python 3 (ipykernel)",
   "language": "python",
   "name": "python3"
  },
  "language_info": {
   "codemirror_mode": {
    "name": "ipython",
    "version": 3
   },
   "file_extension": ".py",
   "mimetype": "text/x-python",
   "name": "python",
   "nbconvert_exporter": "python",
   "pygments_lexer": "ipython3",
   "version": "3.10.5"
  }
 },
 "nbformat": 4,
 "nbformat_minor": 5
}
