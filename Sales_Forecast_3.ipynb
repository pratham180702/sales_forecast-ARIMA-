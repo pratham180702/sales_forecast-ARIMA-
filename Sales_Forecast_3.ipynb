{
 "cells": [
  {
   "cell_type": "code",
   "execution_count": 125,
   "id": "66bd1ac2",
   "metadata": {},
   "outputs": [],
   "source": [
    "import pandas as pd\n",
    "import numpy as np\n",
    "from matplotlib import pyplot as plt"
   ]
  },
  {
   "cell_type": "code",
   "execution_count": 126,
   "id": "ff07873e",
   "metadata": {},
   "outputs": [
    {
     "name": "stderr",
     "output_type": "stream",
     "text": [
      "C:\\Users\\PRATHAM\\AppData\\Local\\Temp\\ipykernel_9112\\2100943657.py:1: DtypeWarning: Columns (2) have mixed types. Specify dtype option on import or set low_memory=False.\n",
      "  df = pd.read_csv('Property_Sales_History_Property_Sales_History.csv',parse_dates=['SALEDATE'])\n"
     ]
    }
   ],
   "source": [
    "df = pd.read_csv('Property_Sales_History_Property_Sales_History.csv',parse_dates=['SALEDATE'])"
   ]
  },
  {
   "cell_type": "code",
   "execution_count": 127,
   "id": "ef2a5b70",
   "metadata": {},
   "outputs": [
    {
     "data": {
      "text/html": [
       "<div>\n",
       "<style scoped>\n",
       "    .dataframe tbody tr th:only-of-type {\n",
       "        vertical-align: middle;\n",
       "    }\n",
       "\n",
       "    .dataframe tbody tr th {\n",
       "        vertical-align: top;\n",
       "    }\n",
       "\n",
       "    .dataframe thead th {\n",
       "        text-align: right;\n",
       "    }\n",
       "</style>\n",
       "<table border=\"1\" class=\"dataframe\">\n",
       "  <thead>\n",
       "    <tr style=\"text-align: right;\">\n",
       "      <th></th>\n",
       "      <th>PARCELNO</th>\n",
       "      <th>PROPCLASS</th>\n",
       "      <th>PROPADDR</th>\n",
       "      <th>SALEDATE</th>\n",
       "      <th>SALEPRICE</th>\n",
       "      <th>SALENO</th>\n",
       "      <th>GRANTEE</th>\n",
       "      <th>GRANTOR</th>\n",
       "      <th>SalesInstr</th>\n",
       "      <th>PROPNO</th>\n",
       "      <th>PROPDIR</th>\n",
       "      <th>PROPSTR</th>\n",
       "      <th>PROPZIP</th>\n",
       "      <th>SALETERMS</th>\n",
       "    </tr>\n",
       "  </thead>\n",
       "  <tbody>\n",
       "    <tr>\n",
       "      <th>0</th>\n",
       "      <td>22123947.</td>\n",
       "      <td>401</td>\n",
       "      <td>NaN</td>\n",
       "      <td>2016-03-02</td>\n",
       "      <td>$1.00</td>\n",
       "      <td>1</td>\n",
       "      <td>HALL, EDWARD</td>\n",
       "      <td>LAURA, TRINA</td>\n",
       "      <td>QC</td>\n",
       "      <td>18624</td>\n",
       "      <td>NaN</td>\n",
       "      <td>WINSTON</td>\n",
       "      <td>48219</td>\n",
       "      <td>REVIEW NEEDED</td>\n",
       "    </tr>\n",
       "    <tr>\n",
       "      <th>1</th>\n",
       "      <td>21015633.010</td>\n",
       "      <td>401</td>\n",
       "      <td>NaN</td>\n",
       "      <td>2016-03-02</td>\n",
       "      <td>$5000.00</td>\n",
       "      <td>1</td>\n",
       "      <td>ANDERSON, ANTONIO</td>\n",
       "      <td>WARE, EDISON</td>\n",
       "      <td>QC</td>\n",
       "      <td>18694</td>\n",
       "      <td>NaN</td>\n",
       "      <td>ALCOY</td>\n",
       "      <td>48205</td>\n",
       "      <td>REVIEW NEEDED</td>\n",
       "    </tr>\n",
       "    <tr>\n",
       "      <th>2</th>\n",
       "      <td>17007012.</td>\n",
       "      <td>404</td>\n",
       "      <td>NaN</td>\n",
       "      <td>2016-03-02</td>\n",
       "      <td>NaN</td>\n",
       "      <td>1</td>\n",
       "      <td>NaN</td>\n",
       "      <td>HASKA, WILLIAM</td>\n",
       "      <td>WD</td>\n",
       "      <td>2130</td>\n",
       "      <td>NaN</td>\n",
       "      <td>IROQUOIS</td>\n",
       "      <td>48214</td>\n",
       "      <td>REVIEW NEEDED</td>\n",
       "    </tr>\n",
       "    <tr>\n",
       "      <th>3</th>\n",
       "      <td>21042739.</td>\n",
       "      <td>401</td>\n",
       "      <td>NaN</td>\n",
       "      <td>2016-03-02</td>\n",
       "      <td>$1.00</td>\n",
       "      <td>1</td>\n",
       "      <td>HERBERT, WILLIE JR</td>\n",
       "      <td>HERBERT, CLARA L</td>\n",
       "      <td>PTA</td>\n",
       "      <td>3960</td>\n",
       "      <td>NaN</td>\n",
       "      <td>LILLIBRIDGE</td>\n",
       "      <td>48214</td>\n",
       "      <td>NQ</td>\n",
       "    </tr>\n",
       "    <tr>\n",
       "      <th>4</th>\n",
       "      <td>21077568-9</td>\n",
       "      <td>401</td>\n",
       "      <td>NaN</td>\n",
       "      <td>2016-03-02</td>\n",
       "      <td>$4400.00</td>\n",
       "      <td>1</td>\n",
       "      <td>MASON, CHARLES ANTHONY</td>\n",
       "      <td>MUMPHORD, TAHNIA</td>\n",
       "      <td>PTA</td>\n",
       "      <td>5036</td>\n",
       "      <td>NaN</td>\n",
       "      <td>MARSEILLES</td>\n",
       "      <td>48224</td>\n",
       "      <td>REVIEW NEEDED</td>\n",
       "    </tr>\n",
       "  </tbody>\n",
       "</table>\n",
       "</div>"
      ],
      "text/plain": [
       "       PARCELNO  PROPCLASS PROPADDR   SALEDATE SALEPRICE  SALENO  \\\n",
       "0     22123947.        401      NaN 2016-03-02     $1.00       1   \n",
       "1  21015633.010        401      NaN 2016-03-02  $5000.00       1   \n",
       "2     17007012.        404      NaN 2016-03-02       NaN       1   \n",
       "3     21042739.        401      NaN 2016-03-02     $1.00       1   \n",
       "4    21077568-9        401      NaN 2016-03-02  $4400.00       1   \n",
       "\n",
       "                  GRANTEE           GRANTOR SalesInstr  PROPNO PROPDIR  \\\n",
       "0            HALL, EDWARD      LAURA, TRINA         QC   18624     NaN   \n",
       "1       ANDERSON, ANTONIO      WARE, EDISON         QC   18694     NaN   \n",
       "2                     NaN    HASKA, WILLIAM         WD    2130     NaN   \n",
       "3      HERBERT, WILLIE JR  HERBERT, CLARA L        PTA    3960     NaN   \n",
       "4  MASON, CHARLES ANTHONY  MUMPHORD, TAHNIA        PTA    5036     NaN   \n",
       "\n",
       "       PROPSTR PROPZIP      SALETERMS  \n",
       "0      WINSTON   48219  REVIEW NEEDED  \n",
       "1        ALCOY   48205  REVIEW NEEDED  \n",
       "2     IROQUOIS   48214  REVIEW NEEDED  \n",
       "3  LILLIBRIDGE   48214             NQ  \n",
       "4   MARSEILLES   48224  REVIEW NEEDED  "
      ]
     },
     "execution_count": 127,
     "metadata": {},
     "output_type": "execute_result"
    }
   ],
   "source": [
    "df.head()"
   ]
  },
  {
   "cell_type": "code",
   "execution_count": 128,
   "id": "a72aa929",
   "metadata": {},
   "outputs": [
    {
     "name": "stderr",
     "output_type": "stream",
     "text": [
      "C:\\Users\\PRATHAM\\AppData\\Local\\Temp\\ipykernel_9112\\533734603.py:2: FutureWarning: The default value of regex will change from True to False in a future version. In addition, single character regular expressions will *not* be treated as literal strings when regex=True.\n",
      "  df['SALEPRICE'] = df['SALEPRICE'].str.replace('$', '')\n"
     ]
    }
   ],
   "source": [
    "#the SALEPRICE here is in string and has \"$\" prefix. so first replacing \"$\" with empty space\n",
    "df['SALEPRICE'] = df['SALEPRICE'].str.replace('$', '')\n",
    "\n",
    "#now typecasting the string to float\n",
    "df['SALEPRICE'] = df['SALEPRICE'].astype(float)"
   ]
  },
  {
   "cell_type": "code",
   "execution_count": 129,
   "id": "75263de0",
   "metadata": {},
   "outputs": [
    {
     "data": {
      "text/html": [
       "<div>\n",
       "<style scoped>\n",
       "    .dataframe tbody tr th:only-of-type {\n",
       "        vertical-align: middle;\n",
       "    }\n",
       "\n",
       "    .dataframe tbody tr th {\n",
       "        vertical-align: top;\n",
       "    }\n",
       "\n",
       "    .dataframe thead th {\n",
       "        text-align: right;\n",
       "    }\n",
       "</style>\n",
       "<table border=\"1\" class=\"dataframe\">\n",
       "  <thead>\n",
       "    <tr style=\"text-align: right;\">\n",
       "      <th></th>\n",
       "      <th>SALEDATE</th>\n",
       "      <th>SALEPRICE</th>\n",
       "    </tr>\n",
       "  </thead>\n",
       "  <tbody>\n",
       "    <tr>\n",
       "      <th>0</th>\n",
       "      <td>2016-03-02</td>\n",
       "      <td>1.000000</td>\n",
       "    </tr>\n",
       "    <tr>\n",
       "      <th>1</th>\n",
       "      <td>2016-03-02</td>\n",
       "      <td>5000.000000</td>\n",
       "    </tr>\n",
       "    <tr>\n",
       "      <th>2</th>\n",
       "      <td>2016-03-02</td>\n",
       "      <td>7495.056193</td>\n",
       "    </tr>\n",
       "    <tr>\n",
       "      <th>3</th>\n",
       "      <td>2016-03-02</td>\n",
       "      <td>1.000000</td>\n",
       "    </tr>\n",
       "    <tr>\n",
       "      <th>4</th>\n",
       "      <td>2016-03-02</td>\n",
       "      <td>4400.000000</td>\n",
       "    </tr>\n",
       "    <tr>\n",
       "      <th>...</th>\n",
       "      <td>...</td>\n",
       "      <td>...</td>\n",
       "    </tr>\n",
       "    <tr>\n",
       "      <th>601993</th>\n",
       "      <td>2004-05-19</td>\n",
       "      <td>73267.000000</td>\n",
       "    </tr>\n",
       "    <tr>\n",
       "      <th>601994</th>\n",
       "      <td>1995-02-01</td>\n",
       "      <td>192500.000000</td>\n",
       "    </tr>\n",
       "    <tr>\n",
       "      <th>601995</th>\n",
       "      <td>1994-07-01</td>\n",
       "      <td>29500.000000</td>\n",
       "    </tr>\n",
       "    <tr>\n",
       "      <th>601996</th>\n",
       "      <td>2002-07-26</td>\n",
       "      <td>284000.000000</td>\n",
       "    </tr>\n",
       "    <tr>\n",
       "      <th>601997</th>\n",
       "      <td>2006-05-19</td>\n",
       "      <td>58000.000000</td>\n",
       "    </tr>\n",
       "  </tbody>\n",
       "</table>\n",
       "<p>601998 rows × 2 columns</p>\n",
       "</div>"
      ],
      "text/plain": [
       "         SALEDATE      SALEPRICE\n",
       "0      2016-03-02       1.000000\n",
       "1      2016-03-02    5000.000000\n",
       "2      2016-03-02    7495.056193\n",
       "3      2016-03-02       1.000000\n",
       "4      2016-03-02    4400.000000\n",
       "...           ...            ...\n",
       "601993 2004-05-19   73267.000000\n",
       "601994 1995-02-01  192500.000000\n",
       "601995 1994-07-01   29500.000000\n",
       "601996 2002-07-26  284000.000000\n",
       "601997 2006-05-19   58000.000000\n",
       "\n",
       "[601998 rows x 2 columns]"
      ]
     },
     "execution_count": 129,
     "metadata": {},
     "output_type": "execute_result"
    }
   ],
   "source": [
    "#filling the null values using the interpolate method(try using other methods like linear, quadratic instead of cubic)\n",
    "df['SALEPRICE'].interpolate(method='cubic', inplace=True)\n",
    "df2 = df[['SALEDATE','SALEPRICE']]\n",
    "df2"
   ]
  },
  {
   "cell_type": "code",
   "execution_count": 130,
   "id": "8f4fa3b4",
   "metadata": {},
   "outputs": [
    {
     "data": {
      "text/html": [
       "<div>\n",
       "<style scoped>\n",
       "    .dataframe tbody tr th:only-of-type {\n",
       "        vertical-align: middle;\n",
       "    }\n",
       "\n",
       "    .dataframe tbody tr th {\n",
       "        vertical-align: top;\n",
       "    }\n",
       "\n",
       "    .dataframe thead th {\n",
       "        text-align: right;\n",
       "    }\n",
       "</style>\n",
       "<table border=\"1\" class=\"dataframe\">\n",
       "  <thead>\n",
       "    <tr style=\"text-align: right;\">\n",
       "      <th></th>\n",
       "      <th>SALEDATE</th>\n",
       "      <th>SALEPRICE</th>\n",
       "    </tr>\n",
       "  </thead>\n",
       "  <tbody>\n",
       "    <tr>\n",
       "      <th>0</th>\n",
       "      <td>1990-01-01</td>\n",
       "      <td>2.773971e+07</td>\n",
       "    </tr>\n",
       "    <tr>\n",
       "      <th>1</th>\n",
       "      <td>1990-01-04</td>\n",
       "      <td>1.000000e+00</td>\n",
       "    </tr>\n",
       "    <tr>\n",
       "      <th>2</th>\n",
       "      <td>1990-01-08</td>\n",
       "      <td>3.032900e+04</td>\n",
       "    </tr>\n",
       "    <tr>\n",
       "      <th>3</th>\n",
       "      <td>1990-01-09</td>\n",
       "      <td>1.960025e+04</td>\n",
       "    </tr>\n",
       "    <tr>\n",
       "      <th>4</th>\n",
       "      <td>1990-01-16</td>\n",
       "      <td>2.090000e+04</td>\n",
       "    </tr>\n",
       "    <tr>\n",
       "      <th>...</th>\n",
       "      <td>...</td>\n",
       "      <td>...</td>\n",
       "    </tr>\n",
       "    <tr>\n",
       "      <th>7753</th>\n",
       "      <td>2016-02-26</td>\n",
       "      <td>4.853979e+05</td>\n",
       "    </tr>\n",
       "    <tr>\n",
       "      <th>7754</th>\n",
       "      <td>2016-02-27</td>\n",
       "      <td>-1.483918e+03</td>\n",
       "    </tr>\n",
       "    <tr>\n",
       "      <th>7755</th>\n",
       "      <td>2016-02-29</td>\n",
       "      <td>1.000700e+04</td>\n",
       "    </tr>\n",
       "    <tr>\n",
       "      <th>7756</th>\n",
       "      <td>2016-03-01</td>\n",
       "      <td>1.138824e+04</td>\n",
       "    </tr>\n",
       "    <tr>\n",
       "      <th>7757</th>\n",
       "      <td>2016-03-02</td>\n",
       "      <td>7.989706e+04</td>\n",
       "    </tr>\n",
       "  </tbody>\n",
       "</table>\n",
       "<p>7758 rows × 2 columns</p>\n",
       "</div>"
      ],
      "text/plain": [
       "       SALEDATE     SALEPRICE\n",
       "0    1990-01-01  2.773971e+07\n",
       "1    1990-01-04  1.000000e+00\n",
       "2    1990-01-08  3.032900e+04\n",
       "3    1990-01-09  1.960025e+04\n",
       "4    1990-01-16  2.090000e+04\n",
       "...         ...           ...\n",
       "7753 2016-02-26  4.853979e+05\n",
       "7754 2016-02-27 -1.483918e+03\n",
       "7755 2016-02-29  1.000700e+04\n",
       "7756 2016-03-01  1.138824e+04\n",
       "7757 2016-03-02  7.989706e+04\n",
       "\n",
       "[7758 rows x 2 columns]"
      ]
     },
     "execution_count": 130,
     "metadata": {},
     "output_type": "execute_result"
    }
   ],
   "source": [
    "#grouping the data based upon dates and adding all the SALEPRICE of the single date\n",
    "grouped_df = df.groupby(['SALEDATE'])['SALEPRICE'].sum()\n",
    "\n",
    "#resetting the index\n",
    "grouped_df = grouped_df.reset_index()\n",
    "grouped_df"
   ]
  },
  {
   "cell_type": "code",
   "execution_count": 131,
   "id": "9eddf088",
   "metadata": {},
   "outputs": [
    {
     "data": {
      "text/html": [
       "<div>\n",
       "<style scoped>\n",
       "    .dataframe tbody tr th:only-of-type {\n",
       "        vertical-align: middle;\n",
       "    }\n",
       "\n",
       "    .dataframe tbody tr th {\n",
       "        vertical-align: top;\n",
       "    }\n",
       "\n",
       "    .dataframe thead th {\n",
       "        text-align: right;\n",
       "    }\n",
       "</style>\n",
       "<table border=\"1\" class=\"dataframe\">\n",
       "  <thead>\n",
       "    <tr style=\"text-align: right;\">\n",
       "      <th></th>\n",
       "      <th>SALEPRICE</th>\n",
       "    </tr>\n",
       "    <tr>\n",
       "      <th>SALEDATE</th>\n",
       "      <th></th>\n",
       "    </tr>\n",
       "  </thead>\n",
       "  <tbody>\n",
       "    <tr>\n",
       "      <th>1990-01-01</th>\n",
       "      <td>2.773971e+07</td>\n",
       "    </tr>\n",
       "    <tr>\n",
       "      <th>1990-01-04</th>\n",
       "      <td>1.000000e+00</td>\n",
       "    </tr>\n",
       "    <tr>\n",
       "      <th>1990-01-08</th>\n",
       "      <td>3.032900e+04</td>\n",
       "    </tr>\n",
       "    <tr>\n",
       "      <th>1990-01-09</th>\n",
       "      <td>1.960025e+04</td>\n",
       "    </tr>\n",
       "    <tr>\n",
       "      <th>1990-01-16</th>\n",
       "      <td>2.090000e+04</td>\n",
       "    </tr>\n",
       "    <tr>\n",
       "      <th>...</th>\n",
       "      <td>...</td>\n",
       "    </tr>\n",
       "    <tr>\n",
       "      <th>2016-02-26</th>\n",
       "      <td>4.853979e+05</td>\n",
       "    </tr>\n",
       "    <tr>\n",
       "      <th>2016-02-27</th>\n",
       "      <td>-1.483918e+03</td>\n",
       "    </tr>\n",
       "    <tr>\n",
       "      <th>2016-02-29</th>\n",
       "      <td>1.000700e+04</td>\n",
       "    </tr>\n",
       "    <tr>\n",
       "      <th>2016-03-01</th>\n",
       "      <td>1.138824e+04</td>\n",
       "    </tr>\n",
       "    <tr>\n",
       "      <th>2016-03-02</th>\n",
       "      <td>7.989706e+04</td>\n",
       "    </tr>\n",
       "  </tbody>\n",
       "</table>\n",
       "<p>7758 rows × 1 columns</p>\n",
       "</div>"
      ],
      "text/plain": [
       "               SALEPRICE\n",
       "SALEDATE                \n",
       "1990-01-01  2.773971e+07\n",
       "1990-01-04  1.000000e+00\n",
       "1990-01-08  3.032900e+04\n",
       "1990-01-09  1.960025e+04\n",
       "1990-01-16  2.090000e+04\n",
       "...                  ...\n",
       "2016-02-26  4.853979e+05\n",
       "2016-02-27 -1.483918e+03\n",
       "2016-02-29  1.000700e+04\n",
       "2016-03-01  1.138824e+04\n",
       "2016-03-02  7.989706e+04\n",
       "\n",
       "[7758 rows x 1 columns]"
      ]
     },
     "execution_count": 131,
     "metadata": {},
     "output_type": "execute_result"
    }
   ],
   "source": [
    "grouped_df = grouped_df.set_index('SALEDATE')\n",
    "grouped_df"
   ]
  },
  {
   "cell_type": "code",
   "execution_count": 132,
   "id": "b2271197",
   "metadata": {},
   "outputs": [
    {
     "data": {
      "text/html": [
       "<div>\n",
       "<style scoped>\n",
       "    .dataframe tbody tr th:only-of-type {\n",
       "        vertical-align: middle;\n",
       "    }\n",
       "\n",
       "    .dataframe tbody tr th {\n",
       "        vertical-align: top;\n",
       "    }\n",
       "\n",
       "    .dataframe thead th {\n",
       "        text-align: right;\n",
       "    }\n",
       "</style>\n",
       "<table border=\"1\" class=\"dataframe\">\n",
       "  <thead>\n",
       "    <tr style=\"text-align: right;\">\n",
       "      <th></th>\n",
       "      <th>SALEPRICE</th>\n",
       "    </tr>\n",
       "    <tr>\n",
       "      <th>SALEDATE</th>\n",
       "      <th></th>\n",
       "    </tr>\n",
       "  </thead>\n",
       "  <tbody>\n",
       "    <tr>\n",
       "      <th>1990-01-01</th>\n",
       "      <td>27739706.32</td>\n",
       "    </tr>\n",
       "    <tr>\n",
       "      <th>1990-01-04</th>\n",
       "      <td>1.00</td>\n",
       "    </tr>\n",
       "    <tr>\n",
       "      <th>1990-01-08</th>\n",
       "      <td>30329.00</td>\n",
       "    </tr>\n",
       "    <tr>\n",
       "      <th>1990-01-09</th>\n",
       "      <td>19600.25</td>\n",
       "    </tr>\n",
       "    <tr>\n",
       "      <th>1990-01-16</th>\n",
       "      <td>20900.00</td>\n",
       "    </tr>\n",
       "    <tr>\n",
       "      <th>...</th>\n",
       "      <td>...</td>\n",
       "    </tr>\n",
       "    <tr>\n",
       "      <th>2016-02-26</th>\n",
       "      <td>485397.91</td>\n",
       "    </tr>\n",
       "    <tr>\n",
       "      <th>2016-02-27</th>\n",
       "      <td>-1483.92</td>\n",
       "    </tr>\n",
       "    <tr>\n",
       "      <th>2016-02-29</th>\n",
       "      <td>10007.00</td>\n",
       "    </tr>\n",
       "    <tr>\n",
       "      <th>2016-03-01</th>\n",
       "      <td>11388.24</td>\n",
       "    </tr>\n",
       "    <tr>\n",
       "      <th>2016-03-02</th>\n",
       "      <td>79897.06</td>\n",
       "    </tr>\n",
       "  </tbody>\n",
       "</table>\n",
       "<p>7758 rows × 1 columns</p>\n",
       "</div>"
      ],
      "text/plain": [
       "              SALEPRICE\n",
       "SALEDATE               \n",
       "1990-01-01  27739706.32\n",
       "1990-01-04         1.00\n",
       "1990-01-08     30329.00\n",
       "1990-01-09     19600.25\n",
       "1990-01-16     20900.00\n",
       "...                 ...\n",
       "2016-02-26    485397.91\n",
       "2016-02-27     -1483.92\n",
       "2016-02-29     10007.00\n",
       "2016-03-01     11388.24\n",
       "2016-03-02     79897.06\n",
       "\n",
       "[7758 rows x 1 columns]"
      ]
     },
     "execution_count": 132,
     "metadata": {},
     "output_type": "execute_result"
    }
   ],
   "source": [
    "grouped_df['SALEPRICE'] = grouped_df['SALEPRICE'].round(2)\n",
    "grouped_df"
   ]
  },
  {
   "cell_type": "code",
   "execution_count": 133,
   "id": "6d3368b5",
   "metadata": {},
   "outputs": [
    {
     "name": "stdout",
     "output_type": "stream",
     "text": [
      "22837984732.92\n"
     ]
    },
    {
     "data": {
      "image/png": "[encoded data removed]",
      "text/plain": [
       "<Figure size 432x288 with 1 Axes>"
      ]
     },
     "metadata": {
      "needs_background": "light"
     },
     "output_type": "display_data"
    }
   ],
   "source": [
    "import seaborn as sns\n",
    "sns.boxplot(x=grouped_df[\"SALEPRICE\"])\n",
    "print(grouped_df[\"SALEPRICE\"].max())"
   ]
  },
  {
   "cell_type": "code",
   "execution_count": 134,
   "id": "04b7a485",
   "metadata": {},
   "outputs": [],
   "source": [
    "grouped_df = grouped_df[grouped_df['SALEPRICE'] < 0.25e10]"
   ]
  },
  {
   "cell_type": "code",
   "execution_count": 135,
   "id": "46b918e1",
   "metadata": {},
   "outputs": [
    {
     "data": {
      "text/plain": [
       "<AxesSubplot: xlabel='SALEPRICE'>"
      ]
     },
     "execution_count": 135,
     "metadata": {},
     "output_type": "execute_result"
    },
    {
     "data": {
      "image/png": "[encoded data removed]",
      "text/plain": [
       "<Figure size 432x288 with 1 Axes>"
      ]
     },
     "metadata": {
      "needs_background": "light"
     },
     "output_type": "display_data"
    }
   ],
   "source": [
    "grouped_df\n",
    "sns.boxplot(x=grouped_df[\"SALEPRICE\"])"
   ]
  },
  {
   "cell_type": "code",
   "execution_count": 136,
   "id": "6c13fe29",
   "metadata": {},
   "outputs": [],
   "source": [
    "grouped_df = grouped_df[grouped_df.SALEPRICE >= 0]"
   ]
  },
  {
   "cell_type": "code",
   "execution_count": 137,
   "id": "2affdaf5",
   "metadata": {},
   "outputs": [
    {
     "data": {
      "text/plain": [
       "<AxesSubplot: xlabel='SALEPRICE'>"
      ]
     },
     "execution_count": 137,
     "metadata": {},
     "output_type": "execute_result"
    },
    {
     "data": {
      "image/png": "[encoded data removed]",
      "text/plain": [
       "<Figure size 432x288 with 1 Axes>"
      ]
     },
     "metadata": {
      "needs_background": "light"
     },
     "output_type": "display_data"
    }
   ],
   "source": [
    "sns.boxplot(x=grouped_df[\"SALEPRICE\"])"
   ]
  },
  {
   "cell_type": "code",
   "execution_count": 138,
   "id": "dfe0d96e",
   "metadata": {},
   "outputs": [],
   "source": [
    "grouped_df = grouped_df[grouped_df.SALEPRICE <= 0.25e9]"
   ]
  },
  {
   "cell_type": "code",
   "execution_count": 139,
   "id": "2aab3883",
   "metadata": {},
   "outputs": [
    {
     "data": {
      "text/plain": [
       "<AxesSubplot: xlabel='SALEPRICE'>"
      ]
     },
     "execution_count": 139,
     "metadata": {},
     "output_type": "execute_result"
    },
    {
     "data": {
      "image/png": "[encoded data removed]",
      "text/plain": [
       "<Figure size 432x288 with 1 Axes>"
      ]
     },
     "metadata": {
      "needs_background": "light"
     },
     "output_type": "display_data"
    }
   ],
   "source": [
    "sns.boxplot(x=grouped_df[\"SALEPRICE\"])"
   ]
  },
  {
   "cell_type": "code",
   "execution_count": 154,
   "id": "63d4deca",
   "metadata": {},
   "outputs": [],
   "source": [
    "grouped_df = grouped_df[grouped_df.SALEPRICE <= 1.5e8]"
   ]
  },
  {
   "cell_type": "code",
   "execution_count": 155,
   "id": "4fd1936f",
   "metadata": {},
   "outputs": [
    {
     "data": {
      "text/plain": [
       "<AxesSubplot: xlabel='SALEPRICE'>"
      ]
     },
     "execution_count": 155,
     "metadata": {},
     "output_type": "execute_result"
    },
    {
     "data": {
      "image/png": "[encoded data removed]",
      "text/plain": [
       "<Figure size 432x288 with 1 Axes>"
      ]
     },
     "metadata": {
      "needs_background": "light"
     },
     "output_type": "display_data"
    }
   ],
   "source": [
    "sns.boxplot(x=grouped_df[\"SALEPRICE\"])"
   ]
  },
  {
   "cell_type": "code",
   "execution_count": 156,
   "id": "0024f6ca",
   "metadata": {},
   "outputs": [
    {
     "data": {
      "text/plain": [
       "0"
      ]
     },
     "execution_count": 156,
     "metadata": {},
     "output_type": "execute_result"
    }
   ],
   "source": [
    "#checking for any null values:\n",
    "\n",
    "null_values = grouped_df[\"SALEPRICE\"].isnull().sum()\n",
    "null_values"
   ]
  },
  {
   "cell_type": "code",
   "execution_count": 157,
   "id": "54d865e2",
   "metadata": {},
   "outputs": [
    {
     "data": {
      "text/html": [
       "<div>\n",
       "<style scoped>\n",
       "    .dataframe tbody tr th:only-of-type {\n",
       "        vertical-align: middle;\n",
       "    }\n",
       "\n",
       "    .dataframe tbody tr th {\n",
       "        vertical-align: top;\n",
       "    }\n",
       "\n",
       "    .dataframe thead th {\n",
       "        text-align: right;\n",
       "    }\n",
       "</style>\n",
       "<table border=\"1\" class=\"dataframe\">\n",
       "  <thead>\n",
       "    <tr style=\"text-align: right;\">\n",
       "      <th></th>\n",
       "      <th>SALEPRICE</th>\n",
       "    </tr>\n",
       "    <tr>\n",
       "      <th>SALEDATE</th>\n",
       "      <th></th>\n",
       "    </tr>\n",
       "  </thead>\n",
       "  <tbody>\n",
       "    <tr>\n",
       "      <th>1990-01-01</th>\n",
       "      <td>27739706.32</td>\n",
       "    </tr>\n",
       "    <tr>\n",
       "      <th>1990-01-04</th>\n",
       "      <td>1.00</td>\n",
       "    </tr>\n",
       "    <tr>\n",
       "      <th>1990-01-08</th>\n",
       "      <td>30329.00</td>\n",
       "    </tr>\n",
       "    <tr>\n",
       "      <th>1990-01-09</th>\n",
       "      <td>19600.25</td>\n",
       "    </tr>\n",
       "    <tr>\n",
       "      <th>1990-01-16</th>\n",
       "      <td>20900.00</td>\n",
       "    </tr>\n",
       "    <tr>\n",
       "      <th>...</th>\n",
       "      <td>...</td>\n",
       "    </tr>\n",
       "    <tr>\n",
       "      <th>2016-02-25</th>\n",
       "      <td>358947.91</td>\n",
       "    </tr>\n",
       "    <tr>\n",
       "      <th>2016-02-26</th>\n",
       "      <td>485397.91</td>\n",
       "    </tr>\n",
       "    <tr>\n",
       "      <th>2016-02-29</th>\n",
       "      <td>10007.00</td>\n",
       "    </tr>\n",
       "    <tr>\n",
       "      <th>2016-03-01</th>\n",
       "      <td>11388.24</td>\n",
       "    </tr>\n",
       "    <tr>\n",
       "      <th>2016-03-02</th>\n",
       "      <td>79897.06</td>\n",
       "    </tr>\n",
       "  </tbody>\n",
       "</table>\n",
       "<p>7344 rows × 1 columns</p>\n",
       "</div>"
      ],
      "text/plain": [
       "              SALEPRICE\n",
       "SALEDATE               \n",
       "1990-01-01  27739706.32\n",
       "1990-01-04         1.00\n",
       "1990-01-08     30329.00\n",
       "1990-01-09     19600.25\n",
       "1990-01-16     20900.00\n",
       "...                 ...\n",
       "2016-02-25    358947.91\n",
       "2016-02-26    485397.91\n",
       "2016-02-29     10007.00\n",
       "2016-03-01     11388.24\n",
       "2016-03-02     79897.06\n",
       "\n",
       "[7344 rows x 1 columns]"
      ]
     },
     "execution_count": 157,
     "metadata": {},
     "output_type": "execute_result"
    }
   ],
   "source": [
    "grouped_df = grouped_df.sort_index()\n",
    "grouped_df"
   ]
  },
  {
   "cell_type": "code",
   "execution_count": 158,
   "id": "fd561a68",
   "metadata": {},
   "outputs": [
    {
     "name": "stdout",
     "output_type": "stream",
     "text": [
      "1. ADF :  -9.53090876816421\n",
      "2. P-Value :  2.8925832561790335e-16\n",
      "3. Num Of Lags :  34\n",
      "4. Num Of Observations Used For ADF Regression: 7309\n",
      "5. Critical Values :\n",
      "\t 1% :  -3.4312450058978676\n",
      "\t 5% :  -2.8619355233322374\n",
      "\t 10% :  -2.566980532811698\n"
     ]
    }
   ],
   "source": [
    "from statsmodels.tsa.stattools import adfuller\n",
    "def ad_test(dataset):\n",
    "     dftest = adfuller(dataset, autolag = 'AIC')\n",
    "     print(\"1. ADF : \",dftest[0])\n",
    "     print(\"2. P-Value : \", dftest[1])\n",
    "     print(\"3. Num Of Lags : \", dftest[2])\n",
    "     print(\"4. Num Of Observations Used For ADF Regression:\",      dftest[3])\n",
    "     print(\"5. Critical Values :\")\n",
    "     for key, val in dftest[4].items():\n",
    "         print(\"\\t\",key, \": \", val)\n",
    "ad_test(grouped_df['SALEPRICE'])"
   ]
  },
  {
   "cell_type": "code",
   "execution_count": 159,
   "id": "6457370a",
   "metadata": {},
   "outputs": [
    {
     "name": "stdout",
     "output_type": "stream",
     "text": [
      "Performing stepwise search to minimize aic\n",
      " ARIMA(2,1,2)(0,0,0)[0] intercept   : AIC=inf, Time=3.53 sec\n",
      " ARIMA(0,1,0)(0,0,0)[0] intercept   : AIC=265238.316, Time=0.19 sec\n",
      " ARIMA(1,1,0)(0,0,0)[0] intercept   : AIC=263233.095, Time=0.42 sec\n",
      " ARIMA(0,1,1)(0,0,0)[0] intercept   : AIC=inf, Time=1.25 sec\n",
      " ARIMA(0,1,0)(0,0,0)[0]             : AIC=265236.317, Time=0.14 sec\n",
      " ARIMA(2,1,0)(0,0,0)[0] intercept   : AIC=262446.351, Time=0.54 sec\n",
      " ARIMA(3,1,0)(0,0,0)[0] intercept   : AIC=262011.263, Time=0.74 sec\n",
      " ARIMA(4,1,0)(0,0,0)[0] intercept   : AIC=261703.533, Time=0.92 sec\n",
      " ARIMA(5,1,0)(0,0,0)[0] intercept   : AIC=261412.231, Time=1.07 sec\n",
      " ARIMA(5,1,1)(0,0,0)[0] intercept   : AIC=inf, Time=6.74 sec\n",
      " ARIMA(4,1,1)(0,0,0)[0] intercept   : AIC=inf, Time=5.59 sec\n",
      " ARIMA(5,1,0)(0,0,0)[0]             : AIC=261410.232, Time=0.92 sec\n",
      " ARIMA(4,1,0)(0,0,0)[0]             : AIC=261701.533, Time=0.79 sec\n",
      " ARIMA(5,1,1)(0,0,0)[0]             : AIC=inf, Time=5.20 sec\n",
      " ARIMA(4,1,1)(0,0,0)[0]             : AIC=inf, Time=4.49 sec\n",
      "\n",
      "Best model:  ARIMA(5,1,0)(0,0,0)[0]          \n",
      "Total fit time: 32.538 seconds\n"
     ]
    }
   ],
   "source": [
    "from pmdarima import auto_arima\n",
    "stepwise_fit = auto_arima(grouped_df['SALEPRICE'], trace=True,\n",
    "suppress_warnings=True)"
   ]
  },
  {
   "cell_type": "markdown",
   "id": "67b0e2b4",
   "metadata": {},
   "source": [
    "# Fitting arima model"
   ]
  },
  {
   "cell_type": "markdown",
   "id": "7a557aee",
   "metadata": {},
   "source": [
    "### Dividing the data between training and testing"
   ]
  },
  {
   "cell_type": "code",
   "execution_count": 160,
   "id": "bc6540b4",
   "metadata": {},
   "outputs": [],
   "source": [
    "from statsmodels.tsa.arima.model import ARIMA"
   ]
  },
  {
   "cell_type": "code",
   "execution_count": 161,
   "id": "c8873d17",
   "metadata": {},
   "outputs": [
    {
     "name": "stdout",
     "output_type": "stream",
     "text": [
      "(7344, 1)\n",
      "(7044, 1) (300, 1)\n"
     ]
    }
   ],
   "source": [
    "print(grouped_df.shape)\n",
    "train=grouped_df.iloc[:-300]\n",
    "test=grouped_df.iloc[-300:]\n",
    "print(train.shape,test.shape)"
   ]
  },
  {
   "cell_type": "markdown",
   "id": "b3d411e8",
   "metadata": {},
   "source": [
    "#### Fitting the model"
   ]
  },
  {
   "cell_type": "code",
   "execution_count": 162,
   "id": "94074770",
   "metadata": {},
   "outputs": [
    {
     "name": "stderr",
     "output_type": "stream",
     "text": [
      "C:\\Users\\PRATHAM\\AppData\\Local\\Programs\\Python\\Python310\\lib\\site-packages\\statsmodels\\tsa\\base\\tsa_model.py:471: ValueWarning: A date index has been provided, but it has no associated frequency information and so will be ignored when e.g. forecasting.\n",
      "  self._init_dates(dates, freq)\n",
      "C:\\Users\\PRATHAM\\AppData\\Local\\Programs\\Python\\Python310\\lib\\site-packages\\statsmodels\\tsa\\base\\tsa_model.py:471: ValueWarning: A date index has been provided, but it has no associated frequency information and so will be ignored when e.g. forecasting.\n",
      "  self._init_dates(dates, freq)\n",
      "C:\\Users\\PRATHAM\\AppData\\Local\\Programs\\Python\\Python310\\lib\\site-packages\\statsmodels\\tsa\\base\\tsa_model.py:471: ValueWarning: A date index has been provided, but it has no associated frequency information and so will be ignored when e.g. forecasting.\n",
      "  self._init_dates(dates, freq)\n"
     ]
    }
   ],
   "source": [
    "# model=ARIMA(train['SALEPRICE'],order=(5,1,0))\n",
    "model=ARIMA(train['SALEPRICE'],order=(5,1,0))"
   ]
  },
  {
   "cell_type": "code",
   "execution_count": 163,
   "id": "202978ec",
   "metadata": {},
   "outputs": [],
   "source": [
    "model=model.fit()"
   ]
  },
  {
   "cell_type": "code",
   "execution_count": 164,
   "id": "edb94a80",
   "metadata": {},
   "outputs": [
    {
     "data": {
      "text/html": [
       "<table class=\"simpletable\">\n",
       "<caption>SARIMAX Results</caption>\n",
       "<tr>\n",
       "  <th>Dep. Variable:</th>       <td>SALEPRICE</td>    <th>  No. Observations:  </th>    <td>7044</td>    \n",
       "</tr>\n",
       "<tr>\n",
       "  <th>Model:</th>            <td>ARIMA(5, 1, 0)</td>  <th>  Log Likelihood     </th> <td>-125441.868</td>\n",
       "</tr>\n",
       "<tr>\n",
       "  <th>Date:</th>            <td>Sun, 29 Jan 2023</td> <th>  AIC                </th> <td>250895.737</td> \n",
       "</tr>\n",
       "<tr>\n",
       "  <th>Time:</th>                <td>18:35:51</td>     <th>  BIC                </th> <td>250936.896</td> \n",
       "</tr>\n",
       "<tr>\n",
       "  <th>Sample:</th>                  <td>0</td>        <th>  HQIC               </th> <td>250909.915</td> \n",
       "</tr>\n",
       "<tr>\n",
       "  <th></th>                      <td> - 7044</td>     <th>                     </th>      <td> </td>     \n",
       "</tr>\n",
       "<tr>\n",
       "  <th>Covariance Type:</th>        <td>opg</td>       <th>                     </th>      <td> </td>     \n",
       "</tr>\n",
       "</table>\n",
       "<table class=\"simpletable\">\n",
       "<tr>\n",
       "     <td></td>       <th>coef</th>     <th>std err</th>      <th>z</th>      <th>P>|z|</th>  <th>[0.025</th>    <th>0.975]</th>  \n",
       "</tr>\n",
       "<tr>\n",
       "  <th>ar.L1</th>  <td>   -0.8104</td> <td>    0.008</td> <td>  -98.436</td> <td> 0.000</td> <td>   -0.826</td> <td>   -0.794</td>\n",
       "</tr>\n",
       "<tr>\n",
       "  <th>ar.L2</th>  <td>   -0.6473</td> <td>    0.011</td> <td>  -59.953</td> <td> 0.000</td> <td>   -0.668</td> <td>   -0.626</td>\n",
       "</tr>\n",
       "<tr>\n",
       "  <th>ar.L3</th>  <td>   -0.5001</td> <td>    0.012</td> <td>  -42.112</td> <td> 0.000</td> <td>   -0.523</td> <td>   -0.477</td>\n",
       "</tr>\n",
       "<tr>\n",
       "  <th>ar.L4</th>  <td>   -0.3561</td> <td>    0.011</td> <td>  -32.580</td> <td> 0.000</td> <td>   -0.377</td> <td>   -0.335</td>\n",
       "</tr>\n",
       "<tr>\n",
       "  <th>ar.L5</th>  <td>   -0.1977</td> <td>    0.008</td> <td>  -25.817</td> <td> 0.000</td> <td>   -0.213</td> <td>   -0.183</td>\n",
       "</tr>\n",
       "<tr>\n",
       "  <th>sigma2</th> <td>  1.73e+14</td> <td> 2.76e-18</td> <td> 6.26e+31</td> <td> 0.000</td> <td> 1.73e+14</td> <td> 1.73e+14</td>\n",
       "</tr>\n",
       "</table>\n",
       "<table class=\"simpletable\">\n",
       "<tr>\n",
       "  <th>Ljung-Box (L1) (Q):</th>     <td>9.44</td> <th>  Jarque-Bera (JB):  </th> <td>633783.36</td>\n",
       "</tr>\n",
       "<tr>\n",
       "  <th>Prob(Q):</th>                <td>0.00</td> <th>  Prob(JB):          </th>   <td>0.00</td>   \n",
       "</tr>\n",
       "<tr>\n",
       "  <th>Heteroskedasticity (H):</th> <td>0.21</td> <th>  Skew:              </th>   <td>5.63</td>   \n",
       "</tr>\n",
       "<tr>\n",
       "  <th>Prob(H) (two-sided):</th>    <td>0.00</td> <th>  Kurtosis:          </th>   <td>48.09</td>  \n",
       "</tr>\n",
       "</table><br/><br/>Warnings:<br/>[1] Covariance matrix calculated using the outer product of gradients (complex-step).<br/>[2] Covariance matrix is singular or near-singular, with condition number 4.49e+47. Standard errors may be unstable."
      ],
      "text/plain": [
       "<class 'statsmodels.iolib.summary.Summary'>\n",
       "\"\"\"\n",
       "                               SARIMAX Results                                \n",
       "==============================================================================\n",
       "Dep. Variable:              SALEPRICE   No. Observations:                 7044\n",
       "Model:                 ARIMA(5, 1, 0)   Log Likelihood             -125441.868\n",
       "Date:                Sun, 29 Jan 2023   AIC                         250895.737\n",
       "Time:                        18:35:51   BIC                         250936.896\n",
       "Sample:                             0   HQIC                        250909.915\n",
       "                               - 7044                                         \n",
       "Covariance Type:                  opg                                         \n",
       "==============================================================================\n",
       "                 coef    std err          z      P>|z|      [0.025      0.975]\n",
       "------------------------------------------------------------------------------\n",
       "ar.L1         -0.8104      0.008    -98.436      0.000      -0.826      -0.794\n",
       "ar.L2         -0.6473      0.011    -59.953      0.000      -0.668      -0.626\n",
       "ar.L3         -0.5001      0.012    -42.112      0.000      -0.523      -0.477\n",
       "ar.L4         -0.3561      0.011    -32.580      0.000      -0.377      -0.335\n",
       "ar.L5         -0.1977      0.008    -25.817      0.000      -0.213      -0.183\n",
       "sigma2       1.73e+14   2.76e-18   6.26e+31      0.000    1.73e+14    1.73e+14\n",
       "===================================================================================\n",
       "Ljung-Box (L1) (Q):                   9.44   Jarque-Bera (JB):            633783.36\n",
       "Prob(Q):                              0.00   Prob(JB):                         0.00\n",
       "Heteroskedasticity (H):               0.21   Skew:                             5.63\n",
       "Prob(H) (two-sided):                  0.00   Kurtosis:                        48.09\n",
       "===================================================================================\n",
       "\n",
       "Warnings:\n",
       "[1] Covariance matrix calculated using the outer product of gradients (complex-step).\n",
       "[2] Covariance matrix is singular or near-singular, with condition number 4.49e+47. Standard errors may be unstable.\n",
       "\"\"\""
      ]
     },
     "execution_count": 164,
     "metadata": {},
     "output_type": "execute_result"
    }
   ],
   "source": [
    "model.summary()"
   ]
  },
  {
   "cell_type": "code",
   "execution_count": 114,
   "id": "63dc2c03",
   "metadata": {},
   "outputs": [
    {
     "data": {
      "text/html": [
       "<div>\n",
       "<style scoped>\n",
       "    .dataframe tbody tr th:only-of-type {\n",
       "        vertical-align: middle;\n",
       "    }\n",
       "\n",
       "    .dataframe tbody tr th {\n",
       "        vertical-align: top;\n",
       "    }\n",
       "\n",
       "    .dataframe thead th {\n",
       "        text-align: right;\n",
       "    }\n",
       "</style>\n",
       "<table border=\"1\" class=\"dataframe\">\n",
       "  <thead>\n",
       "    <tr style=\"text-align: right;\">\n",
       "      <th></th>\n",
       "      <th>SALEDATE</th>\n",
       "      <th>SALEPRICE</th>\n",
       "    </tr>\n",
       "  </thead>\n",
       "  <tbody>\n",
       "    <tr>\n",
       "      <th>0</th>\n",
       "      <td>1990-01-01</td>\n",
       "      <td>27739706.32</td>\n",
       "    </tr>\n",
       "    <tr>\n",
       "      <th>1</th>\n",
       "      <td>1990-01-04</td>\n",
       "      <td>1.00</td>\n",
       "    </tr>\n",
       "    <tr>\n",
       "      <th>2</th>\n",
       "      <td>1990-01-08</td>\n",
       "      <td>30329.00</td>\n",
       "    </tr>\n",
       "    <tr>\n",
       "      <th>3</th>\n",
       "      <td>1990-01-09</td>\n",
       "      <td>19600.25</td>\n",
       "    </tr>\n",
       "    <tr>\n",
       "      <th>4</th>\n",
       "      <td>1990-01-16</td>\n",
       "      <td>20900.00</td>\n",
       "    </tr>\n",
       "    <tr>\n",
       "      <th>...</th>\n",
       "      <td>...</td>\n",
       "      <td>...</td>\n",
       "    </tr>\n",
       "    <tr>\n",
       "      <th>7351</th>\n",
       "      <td>2016-02-25</td>\n",
       "      <td>358947.91</td>\n",
       "    </tr>\n",
       "    <tr>\n",
       "      <th>7352</th>\n",
       "      <td>2016-02-26</td>\n",
       "      <td>485397.91</td>\n",
       "    </tr>\n",
       "    <tr>\n",
       "      <th>7353</th>\n",
       "      <td>2016-02-29</td>\n",
       "      <td>10007.00</td>\n",
       "    </tr>\n",
       "    <tr>\n",
       "      <th>7354</th>\n",
       "      <td>2016-03-01</td>\n",
       "      <td>11388.24</td>\n",
       "    </tr>\n",
       "    <tr>\n",
       "      <th>7355</th>\n",
       "      <td>2016-03-02</td>\n",
       "      <td>79897.06</td>\n",
       "    </tr>\n",
       "  </tbody>\n",
       "</table>\n",
       "<p>7356 rows × 2 columns</p>\n",
       "</div>"
      ],
      "text/plain": [
       "       SALEDATE    SALEPRICE\n",
       "0    1990-01-01  27739706.32\n",
       "1    1990-01-04         1.00\n",
       "2    1990-01-08     30329.00\n",
       "3    1990-01-09     19600.25\n",
       "4    1990-01-16     20900.00\n",
       "...         ...          ...\n",
       "7351 2016-02-25    358947.91\n",
       "7352 2016-02-26    485397.91\n",
       "7353 2016-02-29     10007.00\n",
       "7354 2016-03-01     11388.24\n",
       "7355 2016-03-02     79897.06\n",
       "\n",
       "[7356 rows x 2 columns]"
      ]
     },
     "execution_count": 114,
     "metadata": {},
     "output_type": "execute_result"
    }
   ],
   "source": [
    "# grouped_df = grouped_df.reset_index()\n",
    "# grouped_df\n",
    "\n",
    "# to be deleted"
   ]
  },
  {
   "cell_type": "code",
   "execution_count": 165,
   "id": "7ad7f17f",
   "metadata": {},
   "outputs": [
    {
     "name": "stdout",
     "output_type": "stream",
     "text": [
      "SALEDATE\n",
      "2015-04-30    1.081659e+06\n",
      "2015-05-01    8.693101e+05\n",
      "2015-05-02    9.523240e+05\n",
      "2015-05-03    1.126657e+06\n",
      "2015-05-04    1.156477e+06\n",
      "                  ...     \n",
      "2016-02-25    1.058710e+06\n",
      "2016-02-26    1.058710e+06\n",
      "2016-02-29    1.058710e+06\n",
      "2016-03-01    1.058710e+06\n",
      "2016-03-02    1.058710e+06\n",
      "Name: ARIMA Predictions, Length: 300, dtype: float64\n"
     ]
    },
    {
     "name": "stderr",
     "output_type": "stream",
     "text": [
      "C:\\Users\\PRATHAM\\AppData\\Local\\Programs\\Python\\Python310\\lib\\site-packages\\statsmodels\\tsa\\base\\tsa_model.py:834: ValueWarning: No supported index is available. Prediction results will be given with an integer index beginning at `start`.\n",
      "  return get_prediction_index(\n"
     ]
    }
   ],
   "source": [
    "start=len(train)\n",
    "end=len(train)+len(test)-1\n",
    "pred=model.predict(start=start,end=end,typ='levels').rename('ARIMA Predictions')\n",
    "\n",
    "pred.index = grouped_df.index[start:end+1]\n",
    "pred_df = pd.DataFrame(pred)\n",
    "# pred_df\n",
    "print(pred)"
   ]
  },
  {
   "cell_type": "code",
   "execution_count": 166,
   "id": "b24084eb",
   "metadata": {},
   "outputs": [
    {
     "data": {
      "text/html": [
       "<div>\n",
       "<style scoped>\n",
       "    .dataframe tbody tr th:only-of-type {\n",
       "        vertical-align: middle;\n",
       "    }\n",
       "\n",
       "    .dataframe tbody tr th {\n",
       "        vertical-align: top;\n",
       "    }\n",
       "\n",
       "    .dataframe thead th {\n",
       "        text-align: right;\n",
       "    }\n",
       "</style>\n",
       "<table border=\"1\" class=\"dataframe\">\n",
       "  <thead>\n",
       "    <tr style=\"text-align: right;\">\n",
       "      <th></th>\n",
       "      <th>ARIMA Predictions</th>\n",
       "    </tr>\n",
       "    <tr>\n",
       "      <th>SALEDATE</th>\n",
       "      <th></th>\n",
       "    </tr>\n",
       "  </thead>\n",
       "  <tbody>\n",
       "    <tr>\n",
       "      <th>2015-04-30</th>\n",
       "      <td>1.081659e+06</td>\n",
       "    </tr>\n",
       "    <tr>\n",
       "      <th>2015-05-01</th>\n",
       "      <td>8.693101e+05</td>\n",
       "    </tr>\n",
       "    <tr>\n",
       "      <th>2015-05-02</th>\n",
       "      <td>9.523240e+05</td>\n",
       "    </tr>\n",
       "    <tr>\n",
       "      <th>2015-05-03</th>\n",
       "      <td>1.126657e+06</td>\n",
       "    </tr>\n",
       "    <tr>\n",
       "      <th>2015-05-04</th>\n",
       "      <td>1.156477e+06</td>\n",
       "    </tr>\n",
       "    <tr>\n",
       "      <th>...</th>\n",
       "      <td>...</td>\n",
       "    </tr>\n",
       "    <tr>\n",
       "      <th>2016-02-25</th>\n",
       "      <td>1.058710e+06</td>\n",
       "    </tr>\n",
       "    <tr>\n",
       "      <th>2016-02-26</th>\n",
       "      <td>1.058710e+06</td>\n",
       "    </tr>\n",
       "    <tr>\n",
       "      <th>2016-02-29</th>\n",
       "      <td>1.058710e+06</td>\n",
       "    </tr>\n",
       "    <tr>\n",
       "      <th>2016-03-01</th>\n",
       "      <td>1.058710e+06</td>\n",
       "    </tr>\n",
       "    <tr>\n",
       "      <th>2016-03-02</th>\n",
       "      <td>1.058710e+06</td>\n",
       "    </tr>\n",
       "  </tbody>\n",
       "</table>\n",
       "<p>300 rows × 1 columns</p>\n",
       "</div>"
      ],
      "text/plain": [
       "            ARIMA Predictions\n",
       "SALEDATE                     \n",
       "2015-04-30       1.081659e+06\n",
       "2015-05-01       8.693101e+05\n",
       "2015-05-02       9.523240e+05\n",
       "2015-05-03       1.126657e+06\n",
       "2015-05-04       1.156477e+06\n",
       "...                       ...\n",
       "2016-02-25       1.058710e+06\n",
       "2016-02-26       1.058710e+06\n",
       "2016-02-29       1.058710e+06\n",
       "2016-03-01       1.058710e+06\n",
       "2016-03-02       1.058710e+06\n",
       "\n",
       "[300 rows x 1 columns]"
      ]
     },
     "execution_count": 166,
     "metadata": {},
     "output_type": "execute_result"
    }
   ],
   "source": [
    "pred_df"
   ]
  },
  {
   "cell_type": "code",
   "execution_count": 167,
   "id": "afcb09bd",
   "metadata": {},
   "outputs": [
    {
     "data": {
      "image/png": "[encoded data removed]",
      "text/plain": [
       "<Figure size 1080x432 with 1 Axes>"
      ]
     },
     "metadata": {
      "needs_background": "light"
     },
     "output_type": "display_data"
    }
   ],
   "source": [
    "# grouped_df.iloc[-300:].plot(x=grouped_df.index, y='SALEPRICE')\n",
    "\n",
    "# pred_df.plot(x=pred_df.index, y='ARIMA Predictions')\n",
    "\n",
    "\n",
    "ax = grouped_df['SALEPRICE'].iloc[-300:].plot(figsize=(15,6))\n",
    "\n",
    "# Add another plot on the same figure\n",
    "pred_df['ARIMA Predictions'].plot(ax=ax)\n",
    "\n",
    "plt.show()\n"
   ]
  },
  {
   "cell_type": "code",
   "execution_count": 168,
   "id": "634b8bae",
   "metadata": {},
   "outputs": [
    {
     "data": {
      "text/html": [
       "<div>\n",
       "<style scoped>\n",
       "    .dataframe tbody tr th:only-of-type {\n",
       "        vertical-align: middle;\n",
       "    }\n",
       "\n",
       "    .dataframe tbody tr th {\n",
       "        vertical-align: top;\n",
       "    }\n",
       "\n",
       "    .dataframe thead th {\n",
       "        text-align: right;\n",
       "    }\n",
       "</style>\n",
       "<table border=\"1\" class=\"dataframe\">\n",
       "  <thead>\n",
       "    <tr style=\"text-align: right;\">\n",
       "      <th></th>\n",
       "      <th>ARIMA Predictions</th>\n",
       "    </tr>\n",
       "    <tr>\n",
       "      <th>SALEDATE</th>\n",
       "      <th></th>\n",
       "    </tr>\n",
       "  </thead>\n",
       "  <tbody>\n",
       "    <tr>\n",
       "      <th>2015-11-21</th>\n",
       "      <td>1.058710e+06</td>\n",
       "    </tr>\n",
       "    <tr>\n",
       "      <th>2015-11-22</th>\n",
       "      <td>1.058710e+06</td>\n",
       "    </tr>\n",
       "    <tr>\n",
       "      <th>2015-11-23</th>\n",
       "      <td>1.058710e+06</td>\n",
       "    </tr>\n",
       "    <tr>\n",
       "      <th>2015-11-24</th>\n",
       "      <td>1.058710e+06</td>\n",
       "    </tr>\n",
       "    <tr>\n",
       "      <th>2015-11-25</th>\n",
       "      <td>1.058710e+06</td>\n",
       "    </tr>\n",
       "    <tr>\n",
       "      <th>...</th>\n",
       "      <td>...</td>\n",
       "    </tr>\n",
       "    <tr>\n",
       "      <th>2016-02-25</th>\n",
       "      <td>1.058710e+06</td>\n",
       "    </tr>\n",
       "    <tr>\n",
       "      <th>2016-02-26</th>\n",
       "      <td>1.058710e+06</td>\n",
       "    </tr>\n",
       "    <tr>\n",
       "      <th>2016-02-29</th>\n",
       "      <td>1.058710e+06</td>\n",
       "    </tr>\n",
       "    <tr>\n",
       "      <th>2016-03-01</th>\n",
       "      <td>1.058710e+06</td>\n",
       "    </tr>\n",
       "    <tr>\n",
       "      <th>2016-03-02</th>\n",
       "      <td>1.058710e+06</td>\n",
       "    </tr>\n",
       "  </tbody>\n",
       "</table>\n",
       "<p>100 rows × 1 columns</p>\n",
       "</div>"
      ],
      "text/plain": [
       "            ARIMA Predictions\n",
       "SALEDATE                     \n",
       "2015-11-21       1.058710e+06\n",
       "2015-11-22       1.058710e+06\n",
       "2015-11-23       1.058710e+06\n",
       "2015-11-24       1.058710e+06\n",
       "2015-11-25       1.058710e+06\n",
       "...                       ...\n",
       "2016-02-25       1.058710e+06\n",
       "2016-02-26       1.058710e+06\n",
       "2016-02-29       1.058710e+06\n",
       "2016-03-01       1.058710e+06\n",
       "2016-03-02       1.058710e+06\n",
       "\n",
       "[100 rows x 1 columns]"
      ]
     },
     "execution_count": 168,
     "metadata": {},
     "output_type": "execute_result"
    }
   ],
   "source": [
    "pred_df.tail(100)"
   ]
  }
 ],
 "metadata": {
  "kernelspec": {
   "display_name": "Python 3 (ipykernel)",
   "language": "python",
   "name": "python3"
  },
  "language_info": {
   "codemirror_mode": {
    "name": "ipython",
    "version": 3
   },
   "file_extension": ".py",
   "mimetype": "text/x-python",
   "name": "python",
   "nbconvert_exporter": "python",
   "pygments_lexer": "ipython3",
   "version": "3.10.5"
  }
 },
 "nbformat": 4,
 "nbformat_minor": 5
}
